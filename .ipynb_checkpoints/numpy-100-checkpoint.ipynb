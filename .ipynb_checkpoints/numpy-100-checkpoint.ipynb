{
 "cells": [
  {
   "cell_type": "markdown",
   "id": "a08d2742-ea48-4753-9f8e-d32cac4648bf",
   "metadata": {},
   "source": [
    "https://github.com/rougier/numpy-100/blob/master/100_Numpy_exercises.ipynb"
   ]
  },
  {
   "cell_type": "markdown",
   "id": "457cecd2-fc7a-4175-884c-edb58fc99df6",
   "metadata": {},
   "source": [
    "1. Import the numpy package under the name np (★☆☆)\n"
   ]
  },
  {
   "cell_type": "code",
   "execution_count": 1,
   "id": "9ab59216-ce09-401a-b8a3-e74f0d4a71d9",
   "metadata": {},
   "outputs": [],
   "source": [
    "import numpy as np"
   ]
  },
  {
   "cell_type": "markdown",
   "id": "46363947-e7c9-464f-9154-7bb8e68fb1bd",
   "metadata": {},
   "source": [
    "2. Print the numpy version and the configuration (★☆☆)"
   ]
  },
  {
   "cell_type": "code",
   "execution_count": 3,
   "id": "1f1c7e73-c887-4a28-8362-7e17b7e4252c",
   "metadata": {},
   "outputs": [
    {
     "name": "stdout",
     "output_type": "stream",
     "text": [
      "1.26.4\n"
     ]
    }
   ],
   "source": [
    "print(np.__version__)"
   ]
  },
  {
   "cell_type": "code",
   "execution_count": 4,
   "id": "18a0e396-476e-4d8d-8359-b65f615400d8",
   "metadata": {
    "scrolled": true
   },
   "outputs": [
    {
     "name": "stdout",
     "output_type": "stream",
     "text": [
      "Build Dependencies:\n",
      "  blas:\n",
      "    detection method: pkgconfig\n",
      "    found: true\n",
      "    include directory: /c/opt/64/include\n",
      "    lib directory: /c/opt/64/lib\n",
      "    name: openblas64\n",
      "    openblas configuration: USE_64BITINT=1 DYNAMIC_ARCH=1 DYNAMIC_OLDER= NO_CBLAS=\n",
      "      NO_LAPACK= NO_LAPACKE= NO_AFFINITY=1 USE_OPENMP= SKYLAKEX MAX_THREADS=2\n",
      "    pc file directory: C:/opt/64/lib/pkgconfig\n",
      "    version: 0.3.23.dev\n",
      "  lapack:\n",
      "    detection method: internal\n",
      "    found: true\n",
      "    include directory: unknown\n",
      "    lib directory: unknown\n",
      "    name: dep3179274605568\n",
      "    openblas configuration: unknown\n",
      "    pc file directory: unknown\n",
      "    version: 1.26.4\n",
      "Compilers:\n",
      "  c:\n",
      "    commands: cl\n",
      "    linker: link\n",
      "    name: msvc\n",
      "    version: 19.29.30153\n",
      "  c++:\n",
      "    commands: cl\n",
      "    linker: link\n",
      "    name: msvc\n",
      "    version: 19.29.30153\n",
      "  cython:\n",
      "    commands: cython\n",
      "    linker: cython\n",
      "    name: cython\n",
      "    version: 3.0.8\n",
      "Machine Information:\n",
      "  build:\n",
      "    cpu: x86_64\n",
      "    endian: little\n",
      "    family: x86_64\n",
      "    system: windows\n",
      "  host:\n",
      "    cpu: x86_64\n",
      "    endian: little\n",
      "    family: x86_64\n",
      "    system: windows\n",
      "Python Information:\n",
      "  path: C:\\Users\\runneradmin\\AppData\\Local\\Temp\\cibw-run-g7slqwov\\cp312-win_amd64\\build\\venv\\Scripts\\python.exe\n",
      "  version: '3.12'\n",
      "SIMD Extensions:\n",
      "  baseline:\n",
      "  - SSE\n",
      "  - SSE2\n",
      "  - SSE3\n",
      "  found:\n",
      "  - SSSE3\n",
      "  - SSE41\n",
      "  - POPCNT\n",
      "  - SSE42\n",
      "  - AVX\n",
      "  - F16C\n",
      "  - FMA3\n",
      "  - AVX2\n",
      "  not found:\n",
      "  - AVX512F\n",
      "  - AVX512CD\n",
      "  - AVX512_SKX\n",
      "  - AVX512_CLX\n",
      "  - AVX512_CNL\n",
      "  - AVX512_ICL\n",
      "\n"
     ]
    }
   ],
   "source": [
    "np.show_config()"
   ]
  },
  {
   "cell_type": "markdown",
   "id": "121eb853-590c-4e81-8c3f-a81b8722a1c8",
   "metadata": {},
   "source": [
    "3. Create a null vector of size 10 (★☆☆)"
   ]
  },
  {
   "cell_type": "code",
   "execution_count": 7,
   "id": "ebfb9239-ae01-43ad-a07d-543f263bc4ec",
   "metadata": {},
   "outputs": [],
   "source": [
    "a = np.zeros(10)"
   ]
  },
  {
   "cell_type": "code",
   "execution_count": 8,
   "id": "6f77f4b9-70ee-4d58-adfc-35bbe68946ed",
   "metadata": {},
   "outputs": [
    {
     "data": {
      "text/plain": [
       "array([0., 0., 0., 0., 0., 0., 0., 0., 0., 0.])"
      ]
     },
     "execution_count": 8,
     "metadata": {},
     "output_type": "execute_result"
    }
   ],
   "source": [
    "a"
   ]
  },
  {
   "cell_type": "markdown",
   "id": "7be32e47-e9a3-4ffd-8b23-64ac64b0b6b8",
   "metadata": {},
   "source": [
    "4. How to find the memory size of any array (★☆☆)"
   ]
  },
  {
   "cell_type": "code",
   "execution_count": 9,
   "id": "3fc607c2-af28-4ec2-985d-169216b03d2e",
   "metadata": {},
   "outputs": [
    {
     "name": "stdout",
     "output_type": "stream",
     "text": [
      "800 bytes\n"
     ]
    }
   ],
   "source": [
    "Z = np.zeros((10,10))\n",
    "print(\"%d bytes\" % (Z.size * Z.itemsize))"
   ]
  },
  {
   "cell_type": "markdown",
   "id": "3d0cf54b-5bd7-4a1c-ac8b-9acd911a3a15",
   "metadata": {},
   "source": [
    "5. How to get the documentation of the numpy add function from the command line? (★☆☆)"
   ]
  },
  {
   "cell_type": "code",
   "execution_count": 12,
   "id": "071ec535-a8cd-4f0f-8ba5-0e4570146ddc",
   "metadata": {},
   "outputs": [
    {
     "data": {
      "text/plain": [
       "<function numpy.info(object=None, maxwidth=76, output=None, toplevel='numpy')>"
      ]
     },
     "execution_count": 12,
     "metadata": {},
     "output_type": "execute_result"
    }
   ],
   "source": [
    "np.info"
   ]
  },
  {
   "cell_type": "markdown",
   "id": "f9354013-a876-4ded-bd7b-5c4b33a2d3d4",
   "metadata": {},
   "source": [
    "6. Create a null vector of size 10 but the fifth value which is 1 (★☆☆)"
   ]
  },
  {
   "cell_type": "code",
   "execution_count": 19,
   "id": "4c14bcb6-4d10-42d9-b971-d4004f92a0ec",
   "metadata": {},
   "outputs": [],
   "source": [
    "a= np.zeros(10)"
   ]
  },
  {
   "cell_type": "code",
   "execution_count": 20,
   "id": "59d3f409-698d-4305-b9a2-b030985f6bff",
   "metadata": {},
   "outputs": [
    {
     "data": {
      "text/plain": [
       "array([0., 0., 0., 0., 0., 0., 0., 0., 0., 0.])"
      ]
     },
     "execution_count": 20,
     "metadata": {},
     "output_type": "execute_result"
    }
   ],
   "source": [
    "a"
   ]
  },
  {
   "cell_type": "code",
   "execution_count": 21,
   "id": "6b9de2fc-d72b-4777-b705-9ed5369ed7b0",
   "metadata": {},
   "outputs": [],
   "source": [
    "a[4] = 1"
   ]
  },
  {
   "cell_type": "code",
   "execution_count": 22,
   "id": "da8743c2-bc8c-4a19-ab63-81d7032de66f",
   "metadata": {},
   "outputs": [
    {
     "data": {
      "text/plain": [
       "array([0., 0., 0., 0., 1., 0., 0., 0., 0., 0.])"
      ]
     },
     "execution_count": 22,
     "metadata": {},
     "output_type": "execute_result"
    }
   ],
   "source": [
    "a"
   ]
  },
  {
   "cell_type": "markdown",
   "id": "449c6436-3cca-49c5-9abd-2a99b0c8cd0a",
   "metadata": {},
   "source": [
    "7. Create a vector with values ranging from 10 to 49 (★☆☆)"
   ]
  },
  {
   "cell_type": "code",
   "execution_count": 24,
   "id": "57cb3bee-dc46-4cda-98ea-e8629be20078",
   "metadata": {},
   "outputs": [],
   "source": [
    "a = np.arange(10,50)"
   ]
  },
  {
   "cell_type": "code",
   "execution_count": 25,
   "id": "586d3a64-77cd-421d-b9d9-f8c046cd91b5",
   "metadata": {},
   "outputs": [
    {
     "data": {
      "text/plain": [
       "array([10, 11, 12, 13, 14, 15, 16, 17, 18, 19, 20, 21, 22, 23, 24, 25, 26,\n",
       "       27, 28, 29, 30, 31, 32, 33, 34, 35, 36, 37, 38, 39, 40, 41, 42, 43,\n",
       "       44, 45, 46, 47, 48, 49])"
      ]
     },
     "execution_count": 25,
     "metadata": {},
     "output_type": "execute_result"
    }
   ],
   "source": [
    "a"
   ]
  },
  {
   "cell_type": "markdown",
   "id": "f537a7f6-df25-41e2-b41f-abaade1d6a14",
   "metadata": {},
   "source": [
    "8. Reverse a vector (first element becomes last) (★☆☆)    "
   ]
  },
  {
   "cell_type": "code",
   "execution_count": 26,
   "id": "ea4525e7-026d-41f9-8a05-5c967c6b6b77",
   "metadata": {},
   "outputs": [],
   "source": [
    "a = np.arange(5)"
   ]
  },
  {
   "cell_type": "code",
   "execution_count": 30,
   "id": "74f8ad0b-873e-4d82-b8f5-2439aabb59fe",
   "metadata": {},
   "outputs": [
    {
     "data": {
      "text/plain": [
       "array([0, 1, 2, 3, 4])"
      ]
     },
     "execution_count": 30,
     "metadata": {},
     "output_type": "execute_result"
    }
   ],
   "source": [
    "a"
   ]
  },
  {
   "cell_type": "code",
   "execution_count": 28,
   "id": "82fb65a3-3b7f-4ba7-9efb-deac542bf3bc",
   "metadata": {},
   "outputs": [],
   "source": [
    "b = a[::-1]"
   ]
  },
  {
   "cell_type": "code",
   "execution_count": 29,
   "id": "21ce0811-521e-4f13-acc2-60746a47a6a0",
   "metadata": {},
   "outputs": [
    {
     "data": {
      "text/plain": [
       "array([4, 3, 2, 1, 0])"
      ]
     },
     "execution_count": 29,
     "metadata": {},
     "output_type": "execute_result"
    }
   ],
   "source": [
    "b"
   ]
  },
  {
   "cell_type": "markdown",
   "id": "991c5cc1-7ac8-44ac-bc29-9932c5b7fe39",
   "metadata": {},
   "source": [
    "9. Create a 3x3 matrix with values ranging from 0 to 8 (★☆☆)"
   ]
  },
  {
   "cell_type": "code",
   "execution_count": 31,
   "id": "a3496c86-3c83-4d32-8667-aae8f2cd239a",
   "metadata": {},
   "outputs": [],
   "source": [
    "a = np.arange(9).reshape(3,3)"
   ]
  },
  {
   "cell_type": "code",
   "execution_count": 32,
   "id": "3197385b-cee4-40ed-b312-e19976c36376",
   "metadata": {},
   "outputs": [
    {
     "data": {
      "text/plain": [
       "array([[0, 1, 2],\n",
       "       [3, 4, 5],\n",
       "       [6, 7, 8]])"
      ]
     },
     "execution_count": 32,
     "metadata": {},
     "output_type": "execute_result"
    }
   ],
   "source": [
    "a"
   ]
  },
  {
   "cell_type": "markdown",
   "id": "9a7cc00a-8b02-41cb-881f-d5798fd3679c",
   "metadata": {},
   "source": [
    "10. Find indices of non-zero elements from [1,2,0,0,4,0] (★☆☆)\n"
   ]
  },
  {
   "cell_type": "code",
   "execution_count": 34,
   "id": "36dca2e0-4021-411c-89e4-3ace9c198455",
   "metadata": {},
   "outputs": [],
   "source": [
    "nz = np.nonzero([1,2,0,0,4,0])"
   ]
  },
  {
   "cell_type": "code",
   "execution_count": 36,
   "id": "251a85c6-3ac6-45ff-ac5c-192bc24e7211",
   "metadata": {},
   "outputs": [
    {
     "name": "stdout",
     "output_type": "stream",
     "text": [
      "(array([0, 1, 4], dtype=int64),)\n"
     ]
    }
   ],
   "source": [
    "print(nz)"
   ]
  },
  {
   "cell_type": "markdown",
   "id": "8ce1d736-28c3-40f5-9ebc-b349df90d269",
   "metadata": {},
   "source": [
    "11. Create a 3x3 identity matrix (★☆☆)\n"
   ]
  },
  {
   "cell_type": "code",
   "execution_count": 37,
   "id": "cce63bfd-9409-4a36-a4b7-ded1c8133758",
   "metadata": {},
   "outputs": [],
   "source": [
    "a = np.eye(3)"
   ]
  },
  {
   "cell_type": "code",
   "execution_count": 38,
   "id": "31fea795-4fe1-4390-8295-7bfca9af8556",
   "metadata": {},
   "outputs": [
    {
     "data": {
      "text/plain": [
       "array([[1., 0., 0.],\n",
       "       [0., 1., 0.],\n",
       "       [0., 0., 1.]])"
      ]
     },
     "execution_count": 38,
     "metadata": {},
     "output_type": "execute_result"
    }
   ],
   "source": [
    "a"
   ]
  },
  {
   "cell_type": "markdown",
   "id": "6363619d-098c-49f7-a5ec-96c54df25085",
   "metadata": {},
   "source": [
    "12. Create a 3x3x3 array with random values (★☆☆)\n"
   ]
  },
  {
   "cell_type": "code",
   "execution_count": 39,
   "id": "eae264d4-17dc-412a-8798-90e2c7f3527e",
   "metadata": {},
   "outputs": [],
   "source": [
    "rng = np.random.default_rng()"
   ]
  },
  {
   "cell_type": "code",
   "execution_count": 40,
   "id": "441ff88e-b50d-49a0-8b2f-5ee790543583",
   "metadata": {},
   "outputs": [],
   "source": [
    "a = rng.random((3,3,3))"
   ]
  },
  {
   "cell_type": "code",
   "execution_count": 44,
   "id": "83ba2ef0-0800-4dc3-b76a-82cff4dc586b",
   "metadata": {},
   "outputs": [
    {
     "name": "stdout",
     "output_type": "stream",
     "text": [
      "[[[0.05656509 0.22863108 0.96395819]\n",
      "  [0.26616944 0.01623117 0.39592142]\n",
      "  [0.87899078 0.13091401 0.59357051]]\n",
      "\n",
      " [[0.57893564 0.45244507 0.78149265]\n",
      "  [0.96663081 0.09105661 0.80392795]\n",
      "  [0.61367732 0.67445206 0.38435191]]\n",
      "\n",
      " [[0.04588238 0.21861076 0.47452393]\n",
      "  [0.43110716 0.16571683 0.51902167]\n",
      "  [0.74335485 0.55976507 0.76756836]]]\n"
     ]
    }
   ],
   "source": [
    "print(a)"
   ]
  },
  {
   "cell_type": "code",
   "execution_count": 42,
   "id": "5b5d07a1-0577-4ff0-9689-3bea234efd23",
   "metadata": {},
   "outputs": [],
   "source": [
    "z = np.random.random((3,3,3))"
   ]
  },
  {
   "cell_type": "code",
   "execution_count": 43,
   "id": "5e4e386c-c0ec-4256-974b-f48b9781e5a5",
   "metadata": {},
   "outputs": [
    {
     "name": "stdout",
     "output_type": "stream",
     "text": [
      "[[[0.31435589 0.59169809 0.94943151]\n",
      "  [0.11496453 0.81810385 0.25313365]\n",
      "  [0.71157221 0.76277931 0.40802927]]\n",
      "\n",
      " [[0.62557833 0.15555981 0.56846989]\n",
      "  [0.672952   0.50565224 0.241783  ]\n",
      "  [0.04262191 0.59622031 0.2692115 ]]\n",
      "\n",
      " [[0.9775806  0.97442068 0.23013242]\n",
      "  [0.08950068 0.45667649 0.90283334]\n",
      "  [0.22790133 0.87204519 0.20231085]]]\n"
     ]
    }
   ],
   "source": [
    "print(z)"
   ]
  },
  {
   "cell_type": "markdown",
   "id": "dea90052-4bb9-41f9-9726-47bfd5cf9b8b",
   "metadata": {},
   "source": [
    "13. Create a 10x10 array with random values and find the minimum and maximum values (★☆☆)\n"
   ]
  },
  {
   "cell_type": "code",
   "execution_count": 46,
   "id": "230f1cf1-03e6-41b8-9f08-94812a376b7b",
   "metadata": {},
   "outputs": [],
   "source": [
    "a = np.random.random((10,10))"
   ]
  },
  {
   "cell_type": "code",
   "execution_count": 47,
   "id": "85891b96-a203-4e7b-a57b-6da2bb6c925b",
   "metadata": {},
   "outputs": [
    {
     "name": "stdout",
     "output_type": "stream",
     "text": [
      "[[0.69443041 0.51103665 0.83897994 0.63986484 0.70382445 0.77847734\n",
      "  0.02556905 0.24672639 0.72487317 0.6026688 ]\n",
      " [0.10522512 0.56706767 0.27428163 0.32169138 0.08283209 0.5233643\n",
      "  0.61168689 0.96743109 0.68896822 0.56271384]\n",
      " [0.25369914 0.3668484  0.52402953 0.75974327 0.50445729 0.83273767\n",
      "  0.75180198 0.35750645 0.45303125 0.57379045]\n",
      " [0.54913166 0.70783866 0.5001888  0.78584256 0.19591964 0.54095156\n",
      "  0.75436679 0.48083283 0.0489669  0.56256841]\n",
      " [0.90887385 0.64029562 0.57503277 0.66330836 0.51105544 0.71847334\n",
      "  0.15562007 0.471393   0.87826817 0.3721805 ]\n",
      " [0.3691381  0.53861202 0.38935012 0.5845954  0.10164037 0.60753549\n",
      "  0.24644641 0.3923411  0.77444142 0.49545782]\n",
      " [0.90211928 0.71095823 0.29733526 0.06112026 0.59658987 0.8304293\n",
      "  0.9002498  0.23093588 0.30343037 0.84160005]\n",
      " [0.51935565 0.79409534 0.82375025 0.54276917 0.19554491 0.52544424\n",
      "  0.95832933 0.27045731 0.01314069 0.22199334]\n",
      " [0.39426131 0.00150754 0.41484874 0.62664651 0.41663533 0.16047179\n",
      "  0.45112934 0.4748117  0.68677046 0.52122056]\n",
      " [0.04433652 0.54550623 0.85670643 0.90734477 0.18902691 0.90170954\n",
      "  0.89015499 0.77924219 0.97996447 0.41549422]]\n"
     ]
    }
   ],
   "source": [
    "print(a)"
   ]
  },
  {
   "cell_type": "code",
   "execution_count": 48,
   "id": "8547d998-bc87-44d0-9f5e-2fe0610476f6",
   "metadata": {},
   "outputs": [
    {
     "data": {
      "text/plain": [
       "0.0015075398337006662"
      ]
     },
     "execution_count": 48,
     "metadata": {},
     "output_type": "execute_result"
    }
   ],
   "source": [
    "np.min(a)"
   ]
  },
  {
   "cell_type": "code",
   "execution_count": 49,
   "id": "c1451bfd-7ff7-4b95-9852-773990668a70",
   "metadata": {},
   "outputs": [
    {
     "data": {
      "text/plain": [
       "0.9799644686632464"
      ]
     },
     "execution_count": 49,
     "metadata": {},
     "output_type": "execute_result"
    }
   ],
   "source": [
    "np.max(a)"
   ]
  },
  {
   "cell_type": "code",
   "execution_count": 50,
   "id": "688b51ed-a0f0-4408-8e79-78203f785111",
   "metadata": {},
   "outputs": [
    {
     "name": "stdout",
     "output_type": "stream",
     "text": [
      "0.0015075398337006662\n"
     ]
    }
   ],
   "source": [
    "min = a.min()\n",
    "print(min)"
   ]
  },
  {
   "cell_type": "code",
   "execution_count": 51,
   "id": "340c7902-d90b-4e85-ab29-579f6f723af6",
   "metadata": {},
   "outputs": [
    {
     "name": "stdout",
     "output_type": "stream",
     "text": [
      "0.9799644686632464\n"
     ]
    }
   ],
   "source": [
    "max = a.max()\n",
    "print(max)"
   ]
  },
  {
   "cell_type": "markdown",
   "id": "8fd97ed9-c9eb-46fa-9e5a-625552075857",
   "metadata": {},
   "source": [
    "14. Create a random vector of size 30 and find the mean value (★☆☆)\n"
   ]
  },
  {
   "cell_type": "code",
   "execution_count": 53,
   "id": "0ba477e7-1959-4f2c-8f69-5170d21a68e4",
   "metadata": {},
   "outputs": [
    {
     "name": "stdout",
     "output_type": "stream",
     "text": [
      "[0.48518678 0.0452797  0.66160015 0.54076008 0.23000658 0.10759169\n",
      " 0.92705023 0.22336816 0.35354282 0.8228243  0.17072443 0.42968343\n",
      " 0.39208446 0.69364936 0.88731361 0.64704619 0.37677571 0.41479197\n",
      " 0.63781573 0.90614502 0.38495383 0.54103034 0.93920466 0.90596104\n",
      " 0.44375446 0.30509165 0.64976593 0.5448095  0.80707698 0.05038177]\n"
     ]
    }
   ],
   "source": [
    "a = np.random.random(30)\n",
    "print(a)"
   ]
  },
  {
   "cell_type": "code",
   "execution_count": 54,
   "id": "dd6a6bf6-4b3e-4b30-b244-0a14d608f6f4",
   "metadata": {},
   "outputs": [
    {
     "name": "stdout",
     "output_type": "stream",
     "text": [
      "0.517509018222952\n"
     ]
    }
   ],
   "source": [
    "mean = a.mean()\n",
    "print(mean)"
   ]
  },
  {
   "cell_type": "code",
   "execution_count": 55,
   "id": "a8e533d2-bc5c-403b-b560-41dc40f914ee",
   "metadata": {},
   "outputs": [
    {
     "data": {
      "text/plain": [
       "0.517509018222952"
      ]
     },
     "execution_count": 55,
     "metadata": {},
     "output_type": "execute_result"
    }
   ],
   "source": [
    "a.mean()"
   ]
  },
  {
   "cell_type": "code",
   "execution_count": 56,
   "id": "f10b8e06-8de9-480a-9235-5dbd9c006dd7",
   "metadata": {},
   "outputs": [
    {
     "data": {
      "text/plain": [
       "0.517509018222952"
      ]
     },
     "execution_count": 56,
     "metadata": {},
     "output_type": "execute_result"
    }
   ],
   "source": [
    "np.mean(a)"
   ]
  },
  {
   "cell_type": "markdown",
   "id": "6749454c-a203-4855-b641-c2c028eda683",
   "metadata": {},
   "source": [
    "15. Create a 2d array with 1 on the border and 0 inside (★☆☆)\n"
   ]
  },
  {
   "cell_type": "code",
   "execution_count": 62,
   "id": "790b8ad9-f079-4140-91e1-c885e8135130",
   "metadata": {},
   "outputs": [
    {
     "name": "stdout",
     "output_type": "stream",
     "text": [
      "[[1. 1. 1.]\n",
      " [1. 1. 1.]\n",
      " [1. 1. 1.]]\n",
      "[[1. 1. 1.]\n",
      " [1. 0. 1.]\n",
      " [1. 1. 1.]]\n"
     ]
    }
   ],
   "source": [
    "a = np.ones(9).reshape(3,3)\n",
    "print(a)\n",
    "a[1][1] = 0\n",
    "print(a)"
   ]
  },
  {
   "cell_type": "code",
   "execution_count": 63,
   "id": "6ca6ddda-ebe6-4368-8ea9-164bbe97811d",
   "metadata": {},
   "outputs": [
    {
     "name": "stdout",
     "output_type": "stream",
     "text": [
      "[[1. 1. 1. 1. 1. 1. 1. 1. 1. 1.]\n",
      " [1. 1. 1. 1. 1. 1. 1. 1. 1. 1.]\n",
      " [1. 1. 1. 1. 1. 1. 1. 1. 1. 1.]\n",
      " [1. 1. 1. 1. 1. 1. 1. 1. 1. 1.]\n",
      " [1. 1. 1. 1. 1. 1. 1. 1. 1. 1.]\n",
      " [1. 1. 1. 1. 1. 1. 1. 1. 1. 1.]\n",
      " [1. 1. 1. 1. 1. 1. 1. 1. 1. 1.]\n",
      " [1. 1. 1. 1. 1. 1. 1. 1. 1. 1.]\n",
      " [1. 1. 1. 1. 1. 1. 1. 1. 1. 1.]\n",
      " [1. 1. 1. 1. 1. 1. 1. 1. 1. 1.]]\n",
      "[[1. 1. 1. 1. 1. 1. 1. 1. 1. 1.]\n",
      " [1. 0. 0. 0. 0. 0. 0. 0. 0. 1.]\n",
      " [1. 0. 0. 0. 0. 0. 0. 0. 0. 1.]\n",
      " [1. 0. 0. 0. 0. 0. 0. 0. 0. 1.]\n",
      " [1. 0. 0. 0. 0. 0. 0. 0. 0. 1.]\n",
      " [1. 0. 0. 0. 0. 0. 0. 0. 0. 1.]\n",
      " [1. 0. 0. 0. 0. 0. 0. 0. 0. 1.]\n",
      " [1. 0. 0. 0. 0. 0. 0. 0. 0. 1.]\n",
      " [1. 0. 0. 0. 0. 0. 0. 0. 0. 1.]\n",
      " [1. 1. 1. 1. 1. 1. 1. 1. 1. 1.]]\n"
     ]
    }
   ],
   "source": [
    "Z = np.ones((10,10))\n",
    "print(Z)\n",
    "Z[1:-1,1:-1] = 0\n",
    "print(Z)"
   ]
  },
  {
   "cell_type": "markdown",
   "id": "49d4a0f1-e2d7-415a-9ab7-f096f6809a9f",
   "metadata": {},
   "source": [
    "16. How to add a border (filled with 0's) around an existing array? (★☆☆)"
   ]
  },
  {
   "cell_type": "code",
   "execution_count": 65,
   "id": "59a7b53b-eff2-4af8-bbd5-9f2d76c418da",
   "metadata": {},
   "outputs": [
    {
     "name": "stdout",
     "output_type": "stream",
     "text": [
      "[[0. 0. 0. 0. 0. 0. 0.]\n",
      " [0. 1. 1. 1. 1. 1. 0.]\n",
      " [0. 1. 1. 1. 1. 1. 0.]\n",
      " [0. 1. 1. 1. 1. 1. 0.]\n",
      " [0. 1. 1. 1. 1. 1. 0.]\n",
      " [0. 1. 1. 1. 1. 1. 0.]\n",
      " [0. 0. 0. 0. 0. 0. 0.]]\n"
     ]
    }
   ],
   "source": [
    "Z = np.ones((5,5))\n",
    "Z = np.pad(Z, pad_width=1, mode='constant', constant_values=0)\n",
    "print(Z)"
   ]
  },
  {
   "cell_type": "markdown",
   "id": "08bff7a8-5716-4ec0-bdfa-40dcee638ae1",
   "metadata": {},
   "source": [
    "17. What is the result of the following expression? (★☆☆) => ???????   \n",
    "0 * np.nan   \n",
    "np.nan == np.nan   \n",
    "np.inf > np.nan   \n",
    "np.nan - np.nan   \n",
    "np.nan in set([np.nan])   \n",
    "0.3 == 3 * 0.1   "
   ]
  },
  {
   "cell_type": "code",
   "execution_count": 66,
   "id": "43a57991-6ffb-4f5c-a78a-1faa900e9285",
   "metadata": {},
   "outputs": [
    {
     "name": "stdout",
     "output_type": "stream",
     "text": [
      "nan\n",
      "False\n",
      "False\n",
      "nan\n",
      "True\n",
      "False\n"
     ]
    }
   ],
   "source": [
    "print(0 * np.nan)\n",
    "print(np.nan == np.nan)\n",
    "print(np.inf > np.nan)\n",
    "print(np.nan - np.nan)\n",
    "print(np.nan in set([np.nan]))\n",
    "print(0.3 == 3 * 0.1)"
   ]
  },
  {
   "cell_type": "markdown",
   "id": "c31c774f-4d38-4f7c-b6a2-2c4fbfbfa9c1",
   "metadata": {},
   "source": [
    "18. Create a 5x5 matrix with values 1,2,3,4 just below the diagonal (★☆☆)"
   ]
  },
  {
   "cell_type": "code",
   "execution_count": 77,
   "id": "3206bd39-beb7-4202-ba63-f9b97d6bab39",
   "metadata": {},
   "outputs": [
    {
     "name": "stdout",
     "output_type": "stream",
     "text": [
      "[[0 0 0 0 0]\n",
      " [1 0 0 0 0]\n",
      " [0 2 0 0 0]\n",
      " [0 0 3 0 0]\n",
      " [0 0 0 4 0]]\n"
     ]
    }
   ],
   "source": [
    "Z = np.diag(1+np.arange(4),k=-1)\n",
    "print(Z)"
   ]
  },
  {
   "cell_type": "code",
   "execution_count": 78,
   "id": "272c586b-bdf1-4899-965e-d027c0eb71dc",
   "metadata": {},
   "outputs": [
    {
     "name": "stdout",
     "output_type": "stream",
     "text": [
      "[[0 0 0 0 0]\n",
      " [0 0 0 0 0]\n",
      " [0 0 0 0 0]\n",
      " [0 0 0 0 0]\n",
      " [0 0 0 0 0]]\n"
     ]
    }
   ],
   "source": [
    "x = np.zeros((5,5), dtype='int64')\n",
    "print(x)"
   ]
  },
  {
   "cell_type": "code",
   "execution_count": 79,
   "id": "b5e6c990-ee70-4b94-8143-95c5581f26c5",
   "metadata": {},
   "outputs": [
    {
     "name": "stdout",
     "output_type": "stream",
     "text": [
      "[[0 0 0 0 0]\n",
      " [1 0 0 0 0]\n",
      " [0 2 0 0 0]\n",
      " [0 0 3 0 0]\n",
      " [0 0 0 4 0]]\n"
     ]
    }
   ],
   "source": [
    "x[1][0] = 1\n",
    "x[2][1] = 2\n",
    "x[3][2] = 3\n",
    "x[4][3] = 4\n",
    "print(x)"
   ]
  },
  {
   "cell_type": "markdown",
   "id": "dbf76761-1505-46cd-9b0d-1caa4f795686",
   "metadata": {},
   "source": [
    "19. Create a 8x8 matrix and fill it with a checkerboard pattern (★☆☆)\n"
   ]
  },
  {
   "cell_type": "markdown",
   "id": "31a22fd8-6531-4ccf-a2ad-44784e67d91f",
   "metadata": {},
   "source": [
    "20. Consider a (6,7,8) shape array, what is the index (x,y,z) of the 100th element? (★☆☆)\n"
   ]
  },
  {
   "cell_type": "markdown",
   "id": "5e02701a-0d34-4caf-94e3-5847d1553bd3",
   "metadata": {},
   "source": [
    "21. Create a checkerboard 8x8 matrix using the tile function (★☆☆)\n"
   ]
  },
  {
   "cell_type": "markdown",
   "id": "b3bad954-f435-4da8-9351-6d931cc0c904",
   "metadata": {},
   "source": [
    "22. Normalize a 5x5 random matrix (★☆☆)\n"
   ]
  },
  {
   "cell_type": "markdown",
   "id": "446c4597-636e-4f44-9c02-b79139ab21be",
   "metadata": {},
   "source": [
    "23. Create a custom dtype that describes a color as four unsigned bytes (RGBA) (★☆☆)\n"
   ]
  },
  {
   "cell_type": "markdown",
   "id": "db16022c-d9cd-469b-a185-1e66fcd34a80",
   "metadata": {},
   "source": [
    "24. Multiply a 5x3 matrix by a 3x2 matrix (real matrix product) (★☆☆)\n"
   ]
  },
  {
   "cell_type": "markdown",
   "id": "53026ee3-3533-46a2-9443-545aa9b90977",
   "metadata": {},
   "source": [
    "25. Given a 1D array, negate all elements which are between 3 and 8, in place. (★☆☆)\n"
   ]
  },
  {
   "cell_type": "markdown",
   "id": "9090c5ba-fec5-4d6f-b251-b4c39b971a48",
   "metadata": {},
   "source": [
    "26. What is the output of the following script? (★☆☆)   \n",
    "# Author: Jake VanderPlas   \n",
    "\n",
    "print(sum(range(5),-1))   \n",
    "from numpy import *   \n",
    "print(sum(range(5),-1))   "
   ]
  },
  {
   "cell_type": "markdown",
   "id": "4fea88a6-5643-46a9-b09d-57f7bdb0ced7",
   "metadata": {},
   "source": [
    "27. Consider an integer vector Z, which of these expressions are legal? (★☆☆)   \n",
    "Z**Z   \n",
    "2 << Z >> 2   \n",
    "Z <- Z   \n",
    "1j*Z   \n",
    "Z/1/1   \n",
    "Z<Z>Z   "
   ]
  },
  {
   "cell_type": "markdown",
   "id": "a7c1708d-8ff8-4386-8c4a-1a03920686fc",
   "metadata": {},
   "source": [
    "28. What are the result of the following expressions? (★☆☆)   \n",
    "np.array(0) / np.array(0)   \n",
    "np.array(0) // np.array(0)   \n",
    "np.array([np.nan]).astype(int).astype(float)"
   ]
  },
  {
   "cell_type": "markdown",
   "id": "a77dc6be-7285-494c-8cf9-ac1285fb27d6",
   "metadata": {},
   "source": [
    "29. How to round away from zero a float array ? (★☆☆)\n"
   ]
  },
  {
   "cell_type": "markdown",
   "id": "a8cc3704-13de-4329-88a1-dce597f938fd",
   "metadata": {},
   "source": [
    "30. How to find common values between two arrays? (★☆☆)\n"
   ]
  },
  {
   "cell_type": "markdown",
   "id": "0ef7f02d-ca2b-4a78-8446-a0a31bd3cf4a",
   "metadata": {},
   "source": [
    "31. How to ignore all numpy warnings (not recommended)? (★☆☆)\n"
   ]
  },
  {
   "cell_type": "markdown",
   "id": "e3e4847f-5800-41ed-9059-a0579be5fe5c",
   "metadata": {},
   "source": [
    "32. Is the following expressions true? (★☆☆)   \n",
    "np.sqrt(-1) == np.emath.sqrt(-1)"
   ]
  },
  {
   "cell_type": "markdown",
   "id": "32ccbe77-c87a-4427-9323-8d73303352d1",
   "metadata": {},
   "source": [
    "33. How to get the dates of yesterday, today and tomorrow? (★☆☆)\n"
   ]
  },
  {
   "cell_type": "markdown",
   "id": "faf409c9-be74-4012-9ed0-f7b56cf5d2a8",
   "metadata": {},
   "source": [
    "34. How to get all the dates corresponding to the month of July 2016? (★★☆)\n"
   ]
  },
  {
   "cell_type": "markdown",
   "id": "c136a429-828e-4e51-8f3f-9f11e2ea7188",
   "metadata": {},
   "source": [
    "35. How to compute ((A+B)*(-A/2)) in place (without copy)? (★★☆)"
   ]
  },
  {
   "cell_type": "markdown",
   "id": "2eb8e906-ffa7-4186-b176-c2d2d89fd5f5",
   "metadata": {},
   "source": [
    "36. Extract the integer part of a random array of positive numbers using 4 different methods (★★☆)"
   ]
  },
  {
   "cell_type": "markdown",
   "id": "c65b2c71-3279-4cdf-b8ab-d46d7fb0c23b",
   "metadata": {},
   "source": [
    "37. Create a 5x5 matrix with row values ranging from 0 to 4 (★★☆)\n"
   ]
  },
  {
   "cell_type": "markdown",
   "id": "2859b2b7-f2b6-4215-96b2-b6deb76db185",
   "metadata": {},
   "source": [
    "38. Consider a generator function that generates 10 integers and use it to build an array (★☆☆)\n"
   ]
  },
  {
   "cell_type": "markdown",
   "id": "398cdb8d-f6fb-46e5-8e77-0859cd96e13e",
   "metadata": {},
   "source": [
    "39. Create a vector of size 10 with values ranging from 0 to 1, both excluded (★★☆)\n"
   ]
  },
  {
   "cell_type": "markdown",
   "id": "a85f4b7d-4436-439c-992a-69307ffbb6d8",
   "metadata": {},
   "source": [
    "40. Create a random vector of size 10 and sort it (★★☆)\n"
   ]
  },
  {
   "cell_type": "markdown",
   "id": "d434c154-92ae-4699-ab4b-84bb73726bc4",
   "metadata": {},
   "source": [
    "41. How to sum a small array faster than np.sum? (★★☆)\n"
   ]
  },
  {
   "cell_type": "markdown",
   "id": "de8b04ee-e379-4fe3-b09f-0e9eb6b770e8",
   "metadata": {},
   "source": [
    "42. Consider two random array A and B, check if they are equal (★★☆)\n"
   ]
  },
  {
   "cell_type": "markdown",
   "id": "7b5d504c-9db0-480c-9fd7-f4d5c50cd9ca",
   "metadata": {},
   "source": [
    "43. Make an array immutable (read-only) (★★☆)\n"
   ]
  },
  {
   "cell_type": "markdown",
   "id": "f157f763-0c4b-4014-b602-99c10babf37d",
   "metadata": {},
   "source": [
    "44. Consider a random 10x2 matrix representing cartesian coordinates, convert them to polar coordinates (★★☆)"
   ]
  },
  {
   "cell_type": "markdown",
   "id": "ead55581-5dcf-4f58-acef-f1b05f78402e",
   "metadata": {},
   "source": [
    "45. Create random vector of size 10 and replace the maximum value by 0 (★★☆)\n"
   ]
  },
  {
   "cell_type": "markdown",
   "id": "3df899aa-ddd2-4a45-9845-a9b69ad05a10",
   "metadata": {},
   "source": [
    "46. Create a structured array with x and y coordinates covering the [0,1]x[0,1] area (★★☆)\n"
   ]
  },
  {
   "cell_type": "markdown",
   "id": "6724313c-6691-40f3-a957-4ad5f53cdea1",
   "metadata": {},
   "source": [
    "47. Given two arrays, X and Y, construct the Cauchy matrix C (Cij =1/(xi - yj)) (★★☆)\n"
   ]
  },
  {
   "cell_type": "markdown",
   "id": "b48de865-0b1e-4488-b401-8cc9c8f153d5",
   "metadata": {},
   "source": [
    "48. Print the minimum and maximum representable value for each numpy scalar type (★★☆)\n"
   ]
  },
  {
   "cell_type": "markdown",
   "id": "c31996f2-34f8-4fb3-8b39-d2c474ce5b07",
   "metadata": {},
   "source": [
    "49. How to print all the values of an array? (★★☆)\n"
   ]
  },
  {
   "cell_type": "markdown",
   "id": "0b01b49c-9b18-465b-b079-cadc72e34413",
   "metadata": {},
   "source": [
    "50. How to find the closest value (to a given scalar) in a vector? (★★☆)\n"
   ]
  },
  {
   "cell_type": "markdown",
   "id": "d9b96f3b-e896-4448-8e7d-4a6bcad06011",
   "metadata": {},
   "source": [
    "51. Create a structured array representing a position (x,y) and a color (r,g,b) (★★☆)\n"
   ]
  },
  {
   "cell_type": "markdown",
   "id": "d6343bdc-80f4-42b8-ad63-0e8046741bd1",
   "metadata": {},
   "source": [
    "52. Consider a random vector with shape (100,2) representing coordinates, find point by point distances (★★☆)\n"
   ]
  },
  {
   "cell_type": "markdown",
   "id": "530ddfdc-28b5-4b73-b8b9-d89b53bb9ac6",
   "metadata": {},
   "source": [
    "53. How to convert a float (32 bits) array into an integer (32 bits) in place?\n"
   ]
  },
  {
   "cell_type": "markdown",
   "id": "0ef6771c-6fe4-4278-8d82-f73a240a3560",
   "metadata": {},
   "source": [
    "54. How to read the following file? (★★☆)   \n",
    "1, 2, 3, 4, 5   \n",
    "6,  ,  , 7, 8   \n",
    " ,  , 9,10,11   "
   ]
  },
  {
   "cell_type": "markdown",
   "id": "e1de5036-fd6d-431f-8129-4785c53857d4",
   "metadata": {},
   "source": [
    "55. What is the equivalent of enumerate for numpy arrays? (★★☆)\n"
   ]
  },
  {
   "cell_type": "markdown",
   "id": "64fabb54-0d84-4bed-88b5-a4ad458dffad",
   "metadata": {},
   "source": [
    "56. Generate a generic 2D Gaussian-like array (★★☆)\n"
   ]
  },
  {
   "cell_type": "markdown",
   "id": "68b3e790-0a18-445f-80cf-8b3b92341fdc",
   "metadata": {},
   "source": [
    "57. How to randomly place p elements in a 2D array? (★★☆)\n"
   ]
  },
  {
   "cell_type": "markdown",
   "id": "fbef307c-a544-4556-9e7f-1164dc125491",
   "metadata": {},
   "source": [
    "58. Subtract the mean of each row of a matrix (★★☆)\n"
   ]
  },
  {
   "cell_type": "markdown",
   "id": "b961694e-0cb3-49f6-8ffd-13980cc13eb4",
   "metadata": {},
   "source": [
    "59. How to sort an array by the nth column? (★★☆)\n",
    "\n"
   ]
  },
  {
   "cell_type": "markdown",
   "id": "cf4a9f2b-4b5e-4210-bf73-8b15217b6844",
   "metadata": {},
   "source": [
    "60. How to tell if a given 2D array has null columns? (★★☆)\n"
   ]
  },
  {
   "cell_type": "markdown",
   "id": "411b57a6-3141-4f3b-83a7-5f1d773ecf54",
   "metadata": {},
   "source": [
    "61. Find the nearest value from a given value in an array (★★☆)\n"
   ]
  },
  {
   "cell_type": "markdown",
   "id": "080abd88-bec1-48c7-a743-2a3fc41b5815",
   "metadata": {},
   "source": [
    "62. Considering two arrays with shape (1,3) and (3,1), how to compute their sum using an iterator? (★★☆)"
   ]
  },
  {
   "cell_type": "markdown",
   "id": "fffb24c5-590d-4bc3-9561-8746c14bffc2",
   "metadata": {},
   "source": [
    "63. Create an array class that has a name attribute (★★☆)\n"
   ]
  },
  {
   "cell_type": "markdown",
   "id": "661c6134-cafd-4f95-98f2-8a6d5fbc990f",
   "metadata": {},
   "source": [
    "64. Consider a given vector, how to add 1 to each element indexed by a second vector (be careful with repeated indices)? (★★★)"
   ]
  },
  {
   "cell_type": "markdown",
   "id": "006bca09-47d9-4b64-a065-b65320cc75a5",
   "metadata": {},
   "source": [
    "65. How to accumulate elements of a vector (X) to an array (F) based on an index list (I)? (★★★)\n"
   ]
  },
  {
   "cell_type": "markdown",
   "id": "c204b983-d4f1-4e8a-91b7-9f62f2f9e5e3",
   "metadata": {},
   "source": [
    "66. Considering a (w,h,3) image of (dtype=ubyte), compute the number of unique colors (★★☆)\n"
   ]
  },
  {
   "cell_type": "markdown",
   "id": "10688d00-1ed7-48ca-9c53-5bf26e53104e",
   "metadata": {},
   "source": [
    "67. Considering a four dimensions array, how to get sum over the last two axis at once? (★★★)\n"
   ]
  },
  {
   "cell_type": "markdown",
   "id": "792ac0be-c7e3-4fde-8db1-f9f456bfe8cd",
   "metadata": {},
   "source": [
    "68. Considering a one-dimensional vector D, how to compute means of subsets of D using a vector S of same size describing subset indices? (★★★)\n"
   ]
  },
  {
   "cell_type": "markdown",
   "id": "237689de-8ae0-42c3-9b81-98379520f2c8",
   "metadata": {},
   "source": [
    "69. How to get the diagonal of a dot product? (★★★)\n"
   ]
  },
  {
   "cell_type": "markdown",
   "id": "02c323bc-cf73-45df-9125-099958d03a80",
   "metadata": {},
   "source": [
    "70. Consider the vector [1, 2, 3, 4, 5], how to build a new vector with 3 consecutive zeros interleaved between each value? (★★★)\n"
   ]
  },
  {
   "cell_type": "markdown",
   "id": "3d38d67c-3749-4830-ba9e-76b671d10fba",
   "metadata": {},
   "source": [
    "71. Consider an array of dimension (5,5,3), how to mulitply it by an array with dimensions (5,5)? (★★★)\n",
    "\n"
   ]
  },
  {
   "cell_type": "markdown",
   "id": "2040a602-be28-4fd5-babb-58e4cbdb8c8b",
   "metadata": {},
   "source": [
    "72. How to swap two rows of an array? (★★★)\n"
   ]
  },
  {
   "cell_type": "markdown",
   "id": "291c075c-359a-40a3-a2bc-47e554bb70ae",
   "metadata": {},
   "source": [
    "73. Consider a set of 10 triplets describing 10 triangles (with shared vertices), find the set of unique line segments composing all the triangles (★★★)\n"
   ]
  },
  {
   "cell_type": "markdown",
   "id": "90b9fc7a-34aa-4b3d-b853-b08938feccee",
   "metadata": {},
   "source": [
    "74. Given a sorted array C that corresponds to a bincount, how to produce an array A such that np.bincount(A) == C? (★★★)\n"
   ]
  },
  {
   "cell_type": "markdown",
   "id": "6770668f-699b-4d52-9c21-5d6a27b182f3",
   "metadata": {},
   "source": [
    "75. How to compute averages using a sliding window over an array? (★★★)\n"
   ]
  },
  {
   "cell_type": "markdown",
   "id": "4ff9a6d4-2c31-4dfe-aa75-4edd36d19a2b",
   "metadata": {},
   "source": [
    "76. Consider a one-dimensional array Z, build a two-dimensional array whose first row is (Z[0],Z[1],Z[2]) and each subsequent row is shifted by 1 (last row should be (Z[-3],Z[-2],Z[-1]) (★★★)\n"
   ]
  },
  {
   "cell_type": "markdown",
   "id": "e747247e-4a99-4881-930f-acdbd13d4e9c",
   "metadata": {},
   "source": [
    "77. How to negate a boolean, or to change the sign of a float inplace? (★★★)\n"
   ]
  },
  {
   "cell_type": "markdown",
   "id": "07e9ae55-3d65-469f-9d40-eb4bd91cbe77",
   "metadata": {},
   "source": [
    "78. Consider 2 sets of points P0,P1 describing lines (2d) and a point p, how to compute distance from p to each line i (P0[i],P1[i])? (★★★)\n"
   ]
  },
  {
   "cell_type": "markdown",
   "id": "7c1ad7a5-909b-4416-9664-eae3b3a8c7e0",
   "metadata": {},
   "source": [
    "79. Consider 2 sets of points P0,P1 describing lines (2d) and a set of points P, how to compute distance from each point j (P[j]) to each line i (P0[i],P1[i])? (★★★)\n",
    "\n"
   ]
  },
  {
   "cell_type": "markdown",
   "id": "c2b0f258-8e71-46f5-9156-cad3bdbe984c",
   "metadata": {},
   "source": [
    "80. Consider an arbitrary array, write a function that extract a subpart with a fixed shape and centered on a given element (pad with a fill value when necessary) (★★★)\n"
   ]
  },
  {
   "cell_type": "markdown",
   "id": "5a183507-0f3e-4585-92ea-f6b66623d2d8",
   "metadata": {},
   "source": [
    "\n",
    "81. Consider an array Z = [1,2,3,4,5,6,7,8,9,10,11,12,13,14], how to generate an array R = [[1,2,3,4], [2,3,4,5], [3,4,5,6], ..., [11,12,13,14]]? (★★★)\n"
   ]
  },
  {
   "cell_type": "markdown",
   "id": "f1af7684-84ea-4658-85b4-feec2e44f890",
   "metadata": {},
   "source": [
    "82. Compute a matrix rank (★★★)\n"
   ]
  },
  {
   "cell_type": "markdown",
   "id": "7b63387e-e0c9-4a31-bd7c-8e9078939939",
   "metadata": {},
   "source": [
    "83. How to find the most frequent value in an array?\n"
   ]
  },
  {
   "cell_type": "markdown",
   "id": "9a134d75-380a-49c6-95c8-fd6e4affce8a",
   "metadata": {},
   "source": [
    "84. Extract all the contiguous 3x3 blocks from a random 10x10 matrix (★★★)\n"
   ]
  },
  {
   "cell_type": "markdown",
   "id": "dd876420-4db4-4d07-9569-748ffd66e7e9",
   "metadata": {},
   "source": [
    "85. Create a 2D array subclass such that Z[i,j] == Z[j,i] (★★★)\n"
   ]
  },
  {
   "cell_type": "markdown",
   "id": "9a24df83-d37b-4aa7-a84c-4e7ac20e9441",
   "metadata": {},
   "source": [
    "86. Consider a set of p matrices with shape (n,n) and a set of p vectors with shape (n,1). How to compute the sum of of the p matrix products at once? (result has shape (n,1)) (★★★)\n"
   ]
  },
  {
   "cell_type": "markdown",
   "id": "8b1b20b1-e359-4118-9259-674e79fc85ee",
   "metadata": {},
   "source": [
    "87. Consider a 16x16 array, how to get the block-sum (block size is 4x4)? (★★★)\n"
   ]
  },
  {
   "cell_type": "markdown",
   "id": "b8ff9b8a-2225-477b-9259-1b0db5ce9f36",
   "metadata": {},
   "source": [
    "88. How to implement the Game of Life using numpy arrays? (★★★)\n"
   ]
  },
  {
   "cell_type": "markdown",
   "id": "e028de54-4e31-4215-8248-d66b1dc1c9f9",
   "metadata": {},
   "source": [
    "\n",
    "89. How to get the n largest values of an array (★★★)\n"
   ]
  },
  {
   "cell_type": "markdown",
   "id": "5cc0cce8-4939-4789-a330-5432d04b1b05",
   "metadata": {},
   "source": [
    "90. Given an arbitrary number of vectors, build the cartesian product (every combinations of every item) (★★★)\n"
   ]
  },
  {
   "cell_type": "markdown",
   "id": "d4abb6ff-b48d-4907-9d5c-a564f19771f7",
   "metadata": {},
   "source": [
    "91. How to create a record array from a regular array? (★★★)\n"
   ]
  },
  {
   "cell_type": "markdown",
   "id": "0aa9da44-66ed-479f-a1f4-91fc687d994f",
   "metadata": {},
   "source": [
    "92. Consider a large vector Z, compute Z to the power of 3 using 3 different methods (★★★)\n"
   ]
  },
  {
   "cell_type": "markdown",
   "id": "9f96ad7f-3e1c-4db5-8238-5479f6b4d588",
   "metadata": {},
   "source": [
    "93. Consider two arrays A and B of shape (8,3) and (2,2). How to find rows of A that contain elements of each row of B regardless of the order of the elements in B? (★★★)\n"
   ]
  },
  {
   "cell_type": "markdown",
   "id": "85711777-cb51-41a8-85d7-cc2f2737d8b4",
   "metadata": {},
   "source": [
    "94. Considering a 10x3 matrix, extract rows with unequal values (e.g. [2,2,3]) (★★★)\n"
   ]
  },
  {
   "cell_type": "markdown",
   "id": "72ec95e6-757e-4e3b-8adb-6a8b505ddbd6",
   "metadata": {},
   "source": [
    "95. Convert a vector of ints into a matrix binary representation (★★★)\n"
   ]
  },
  {
   "cell_type": "markdown",
   "id": "003293bb-b62e-4663-a3b6-05efe7bda3f5",
   "metadata": {},
   "source": [
    "96. Given a two dimensional array, how to extract unique rows? (★★★)\n"
   ]
  },
  {
   "cell_type": "markdown",
   "id": "d63245fa-36b4-4a46-b96c-feb5e13cf443",
   "metadata": {},
   "source": [
    "97. Considering 2 vectors A & B, write the einsum equivalent of inner, outer, sum, and mul function (★★★)\n"
   ]
  },
  {
   "cell_type": "markdown",
   "id": "ff43bb67-bb24-45ed-97bf-a34724c97af4",
   "metadata": {},
   "source": [
    "98. Considering a path described by two vectors (X,Y), how to sample it using equidistant samples (★★★)?\n"
   ]
  },
  {
   "cell_type": "markdown",
   "id": "4dca24ba-18f7-43e9-b8f0-b78f5be9965b",
   "metadata": {},
   "source": [
    "99. Given an integer n and a 2D array X, select from X the rows which can be interpreted as draws from a multinomial distribution with n degrees, i.e., the rows which only contain integers and which sum to n. (★★★)\n"
   ]
  },
  {
   "cell_type": "markdown",
   "id": "9a90647b-bdb5-47d2-9218-a5d8dcdaa0eb",
   "metadata": {},
   "source": [
    "100. Compute bootstrapped 95% confidence intervals for the mean of a 1D array X (i.e., resample the elements of an array with replacement N times, compute the mean of each sample, and then compute percentiles over the means). (★★★)\n"
   ]
  }
 ],
 "metadata": {
  "kernelspec": {
   "display_name": "Python 3 (ipykernel)",
   "language": "python",
   "name": "python3"
  },
  "language_info": {
   "codemirror_mode": {
    "name": "ipython",
    "version": 3
   },
   "file_extension": ".py",
   "mimetype": "text/x-python",
   "name": "python",
   "nbconvert_exporter": "python",
   "pygments_lexer": "ipython3",
   "version": "3.12.4"
  }
 },
 "nbformat": 4,
 "nbformat_minor": 5
}
